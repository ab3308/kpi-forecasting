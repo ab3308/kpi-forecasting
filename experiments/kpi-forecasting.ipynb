{
 "cells": [
  {
   "metadata": {
    "ExecuteTime": {
     "end_time": "2025-02-24T13:57:36.419179Z",
     "start_time": "2025-02-24T13:57:35.052446Z"
    }
   },
   "cell_type": "code",
   "source": [
    "import numpy as np\n",
    "import pandas as pd\n",
    "import catboost as cb\n",
    "import sklearn as sk"
   ],
   "id": "11bcf08cbe71d347",
   "outputs": [],
   "execution_count": 1
  },
  {
   "metadata": {
    "ExecuteTime": {
     "end_time": "2025-02-24T13:57:37.237169Z",
     "start_time": "2025-02-24T13:57:36.958098Z"
    }
   },
   "cell_type": "code",
   "source": [
    "dataset = \"../data/dataset.csv\"\n",
    "df = pd.read_csv(dataset, index_col=None, thousands=',')"
   ],
   "id": "c631c89d9e30eec9",
   "outputs": [],
   "execution_count": 2
  },
  {
   "metadata": {},
   "cell_type": "code",
   "outputs": [],
   "execution_count": null,
   "source": "",
   "id": "f53fd22210445fb6"
  }
 ],
 "metadata": {
  "kernelspec": {
   "display_name": "Python 3",
   "language": "python",
   "name": "python3"
  },
  "language_info": {
   "codemirror_mode": {
    "name": "ipython",
    "version": 2
   },
   "file_extension": ".py",
   "mimetype": "text/x-python",
   "name": "python",
   "nbconvert_exporter": "python",
   "pygments_lexer": "ipython2",
   "version": "2.7.6"
  }
 },
 "nbformat": 4,
 "nbformat_minor": 5
}
