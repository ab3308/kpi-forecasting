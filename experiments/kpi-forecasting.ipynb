{
 "cells": [
  {
   "metadata": {},
   "cell_type": "markdown",
   "source": "# ROI",
   "id": "642ecc8ecf580761"
  },
  {
   "cell_type": "code",
   "execution_count": null,
   "id": "initial_id",
   "metadata": {
    "collapsed": true
   },
   "outputs": [],
   "source": "# total convs x conv value / dsp total cost"
  },
  {
   "metadata": {},
   "cell_type": "markdown",
   "source": "# Ad scheduling",
   "id": "de5aae3062ee8116"
  },
  {
   "metadata": {},
   "cell_type": "markdown",
   "source": "",
   "id": "a85aca46e052ff71"
  }
 ],
 "metadata": {
  "kernelspec": {
   "display_name": "Python 3",
   "language": "python",
   "name": "python3"
  },
  "language_info": {
   "codemirror_mode": {
    "name": "ipython",
    "version": 2
   },
   "file_extension": ".py",
   "mimetype": "text/x-python",
   "name": "python",
   "nbconvert_exporter": "python",
   "pygments_lexer": "ipython2",
   "version": "2.7.6"
  }
 },
 "nbformat": 4,
 "nbformat_minor": 5
}
